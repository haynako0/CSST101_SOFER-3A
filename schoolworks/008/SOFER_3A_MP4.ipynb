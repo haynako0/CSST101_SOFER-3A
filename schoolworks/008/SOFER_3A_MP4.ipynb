{
  "nbformat": 4,
  "nbformat_minor": 0,
  "metadata": {
    "colab": {
      "provenance": []
    },
    "kernelspec": {
      "name": "python3",
      "display_name": "Python 3"
    },
    "language_info": {
      "name": "python"
    }
  },
  "cells": [
    {
      "cell_type": "markdown",
      "source": [
        "# **Machine Problem: Bayesian Network for Healthcare Diagnosis**"
      ],
      "metadata": {
        "id": "KPaHan_nHkdf"
      }
    },
    {
      "cell_type": "markdown",
      "source": [
        "# Exercise 1: Setting Up the Environment"
      ],
      "metadata": {
        "id": "1n4GquZuHl4C"
      }
    },
    {
      "cell_type": "markdown",
      "source": [
        "**Install Libraries**"
      ],
      "metadata": {
        "id": "Q3TWzoWeHrAF"
      }
    },
    {
      "cell_type": "code",
      "source": [
        "!pip install pgmpy"
      ],
      "metadata": {
        "colab": {
          "base_uri": "https://localhost:8080/"
        },
        "id": "rOl0JlT9IX_J",
        "outputId": "d4651ef4-d5be-45d9-bec3-c3797a8515d3"
      },
      "execution_count": 1,
      "outputs": [
        {
          "output_type": "stream",
          "name": "stdout",
          "text": [
            "Collecting pgmpy\n",
            "  Downloading pgmpy-0.1.26-py3-none-any.whl.metadata (9.1 kB)\n",
            "Requirement already satisfied: networkx in /usr/local/lib/python3.10/dist-packages (from pgmpy) (3.3)\n",
            "Requirement already satisfied: numpy in /usr/local/lib/python3.10/dist-packages (from pgmpy) (1.26.4)\n",
            "Requirement already satisfied: scipy in /usr/local/lib/python3.10/dist-packages (from pgmpy) (1.13.1)\n",
            "Requirement already satisfied: scikit-learn in /usr/local/lib/python3.10/dist-packages (from pgmpy) (1.5.2)\n",
            "Requirement already satisfied: pandas in /usr/local/lib/python3.10/dist-packages (from pgmpy) (2.2.2)\n",
            "Requirement already satisfied: pyparsing in /usr/local/lib/python3.10/dist-packages (from pgmpy) (3.1.4)\n",
            "Requirement already satisfied: torch in /usr/local/lib/python3.10/dist-packages (from pgmpy) (2.4.1+cu121)\n",
            "Requirement already satisfied: statsmodels in /usr/local/lib/python3.10/dist-packages (from pgmpy) (0.14.3)\n",
            "Requirement already satisfied: tqdm in /usr/local/lib/python3.10/dist-packages (from pgmpy) (4.66.5)\n",
            "Requirement already satisfied: joblib in /usr/local/lib/python3.10/dist-packages (from pgmpy) (1.4.2)\n",
            "Requirement already satisfied: opt-einsum in /usr/local/lib/python3.10/dist-packages (from pgmpy) (3.4.0)\n",
            "Requirement already satisfied: xgboost in /usr/local/lib/python3.10/dist-packages (from pgmpy) (2.1.1)\n",
            "Requirement already satisfied: google-generativeai in /usr/local/lib/python3.10/dist-packages (from pgmpy) (0.7.2)\n",
            "Requirement already satisfied: google-ai-generativelanguage==0.6.6 in /usr/local/lib/python3.10/dist-packages (from google-generativeai->pgmpy) (0.6.6)\n",
            "Requirement already satisfied: google-api-core in /usr/local/lib/python3.10/dist-packages (from google-generativeai->pgmpy) (2.19.2)\n",
            "Requirement already satisfied: google-api-python-client in /usr/local/lib/python3.10/dist-packages (from google-generativeai->pgmpy) (2.137.0)\n",
            "Requirement already satisfied: google-auth>=2.15.0 in /usr/local/lib/python3.10/dist-packages (from google-generativeai->pgmpy) (2.27.0)\n",
            "Requirement already satisfied: protobuf in /usr/local/lib/python3.10/dist-packages (from google-generativeai->pgmpy) (3.20.3)\n",
            "Requirement already satisfied: pydantic in /usr/local/lib/python3.10/dist-packages (from google-generativeai->pgmpy) (2.9.2)\n",
            "Requirement already satisfied: typing-extensions in /usr/local/lib/python3.10/dist-packages (from google-generativeai->pgmpy) (4.12.2)\n",
            "Requirement already satisfied: proto-plus<2.0.0dev,>=1.22.3 in /usr/local/lib/python3.10/dist-packages (from google-ai-generativelanguage==0.6.6->google-generativeai->pgmpy) (1.24.0)\n",
            "Requirement already satisfied: python-dateutil>=2.8.2 in /usr/local/lib/python3.10/dist-packages (from pandas->pgmpy) (2.8.2)\n",
            "Requirement already satisfied: pytz>=2020.1 in /usr/local/lib/python3.10/dist-packages (from pandas->pgmpy) (2024.2)\n",
            "Requirement already satisfied: tzdata>=2022.7 in /usr/local/lib/python3.10/dist-packages (from pandas->pgmpy) (2024.2)\n",
            "Requirement already satisfied: threadpoolctl>=3.1.0 in /usr/local/lib/python3.10/dist-packages (from scikit-learn->pgmpy) (3.5.0)\n",
            "Requirement already satisfied: patsy>=0.5.6 in /usr/local/lib/python3.10/dist-packages (from statsmodels->pgmpy) (0.5.6)\n",
            "Requirement already satisfied: packaging>=21.3 in /usr/local/lib/python3.10/dist-packages (from statsmodels->pgmpy) (24.1)\n",
            "Requirement already satisfied: filelock in /usr/local/lib/python3.10/dist-packages (from torch->pgmpy) (3.16.1)\n",
            "Requirement already satisfied: sympy in /usr/local/lib/python3.10/dist-packages (from torch->pgmpy) (1.13.3)\n",
            "Requirement already satisfied: jinja2 in /usr/local/lib/python3.10/dist-packages (from torch->pgmpy) (3.1.4)\n",
            "Requirement already satisfied: fsspec in /usr/local/lib/python3.10/dist-packages (from torch->pgmpy) (2024.6.1)\n",
            "Requirement already satisfied: nvidia-nccl-cu12 in /usr/local/lib/python3.10/dist-packages (from xgboost->pgmpy) (2.23.4)\n",
            "Requirement already satisfied: googleapis-common-protos<2.0.dev0,>=1.56.2 in /usr/local/lib/python3.10/dist-packages (from google-api-core->google-generativeai->pgmpy) (1.65.0)\n",
            "Requirement already satisfied: requests<3.0.0.dev0,>=2.18.0 in /usr/local/lib/python3.10/dist-packages (from google-api-core->google-generativeai->pgmpy) (2.32.3)\n",
            "Requirement already satisfied: cachetools<6.0,>=2.0.0 in /usr/local/lib/python3.10/dist-packages (from google-auth>=2.15.0->google-generativeai->pgmpy) (5.5.0)\n",
            "Requirement already satisfied: pyasn1-modules>=0.2.1 in /usr/local/lib/python3.10/dist-packages (from google-auth>=2.15.0->google-generativeai->pgmpy) (0.4.1)\n",
            "Requirement already satisfied: rsa<5,>=3.1.4 in /usr/local/lib/python3.10/dist-packages (from google-auth>=2.15.0->google-generativeai->pgmpy) (4.9)\n",
            "Requirement already satisfied: six in /usr/local/lib/python3.10/dist-packages (from patsy>=0.5.6->statsmodels->pgmpy) (1.16.0)\n",
            "Requirement already satisfied: httplib2<1.dev0,>=0.19.0 in /usr/local/lib/python3.10/dist-packages (from google-api-python-client->google-generativeai->pgmpy) (0.22.0)\n",
            "Requirement already satisfied: google-auth-httplib2<1.0.0,>=0.2.0 in /usr/local/lib/python3.10/dist-packages (from google-api-python-client->google-generativeai->pgmpy) (0.2.0)\n",
            "Requirement already satisfied: uritemplate<5,>=3.0.1 in /usr/local/lib/python3.10/dist-packages (from google-api-python-client->google-generativeai->pgmpy) (4.1.1)\n",
            "Requirement already satisfied: MarkupSafe>=2.0 in /usr/local/lib/python3.10/dist-packages (from jinja2->torch->pgmpy) (2.1.5)\n",
            "Requirement already satisfied: annotated-types>=0.6.0 in /usr/local/lib/python3.10/dist-packages (from pydantic->google-generativeai->pgmpy) (0.7.0)\n",
            "Requirement already satisfied: pydantic-core==2.23.4 in /usr/local/lib/python3.10/dist-packages (from pydantic->google-generativeai->pgmpy) (2.23.4)\n",
            "Requirement already satisfied: mpmath<1.4,>=1.1.0 in /usr/local/lib/python3.10/dist-packages (from sympy->torch->pgmpy) (1.3.0)\n",
            "Requirement already satisfied: grpcio<2.0dev,>=1.33.2 in /usr/local/lib/python3.10/dist-packages (from google-api-core[grpc]!=2.0.*,!=2.1.*,!=2.10.*,!=2.2.*,!=2.3.*,!=2.4.*,!=2.5.*,!=2.6.*,!=2.7.*,!=2.8.*,!=2.9.*,<3.0.0dev,>=1.34.1->google-ai-generativelanguage==0.6.6->google-generativeai->pgmpy) (1.64.1)\n",
            "Requirement already satisfied: grpcio-status<2.0.dev0,>=1.33.2 in /usr/local/lib/python3.10/dist-packages (from google-api-core[grpc]!=2.0.*,!=2.1.*,!=2.10.*,!=2.2.*,!=2.3.*,!=2.4.*,!=2.5.*,!=2.6.*,!=2.7.*,!=2.8.*,!=2.9.*,<3.0.0dev,>=1.34.1->google-ai-generativelanguage==0.6.6->google-generativeai->pgmpy) (1.48.2)\n",
            "Requirement already satisfied: pyasn1<0.7.0,>=0.4.6 in /usr/local/lib/python3.10/dist-packages (from pyasn1-modules>=0.2.1->google-auth>=2.15.0->google-generativeai->pgmpy) (0.6.1)\n",
            "Requirement already satisfied: charset-normalizer<4,>=2 in /usr/local/lib/python3.10/dist-packages (from requests<3.0.0.dev0,>=2.18.0->google-api-core->google-generativeai->pgmpy) (3.3.2)\n",
            "Requirement already satisfied: idna<4,>=2.5 in /usr/local/lib/python3.10/dist-packages (from requests<3.0.0.dev0,>=2.18.0->google-api-core->google-generativeai->pgmpy) (3.10)\n",
            "Requirement already satisfied: urllib3<3,>=1.21.1 in /usr/local/lib/python3.10/dist-packages (from requests<3.0.0.dev0,>=2.18.0->google-api-core->google-generativeai->pgmpy) (2.2.3)\n",
            "Requirement already satisfied: certifi>=2017.4.17 in /usr/local/lib/python3.10/dist-packages (from requests<3.0.0.dev0,>=2.18.0->google-api-core->google-generativeai->pgmpy) (2024.8.30)\n",
            "Downloading pgmpy-0.1.26-py3-none-any.whl (2.0 MB)\n",
            "\u001b[2K   \u001b[90m━━━━━━━━━━━━━━━━━━━━━━━━━━━━━━━━━━━━━━━━\u001b[0m \u001b[32m2.0/2.0 MB\u001b[0m \u001b[31m10.1 MB/s\u001b[0m eta \u001b[36m0:00:00\u001b[0m\n",
            "\u001b[?25hInstalling collected packages: pgmpy\n",
            "Successfully installed pgmpy-0.1.26\n"
          ]
        }
      ]
    },
    {
      "cell_type": "markdown",
      "source": [
        "**Import Libraries**"
      ],
      "metadata": {
        "id": "FB8wZeeVHn68"
      }
    },
    {
      "cell_type": "code",
      "source": [
        "from pgmpy.models import BayesianNetwork\n",
        "from pgmpy.factors.discrete import TabularCPD\n",
        "from pgmpy.inference import VariableElimination\n",
        "import pandas as pd\n",
        "import networkx as nx\n",
        "import matplotlib.pyplot as plt\n",
        "import numpy as np\n",
        "from pgmpy.estimators import MaximumLikelihoodEstimator"
      ],
      "metadata": {
        "id": "dChfCXfOIuif"
      },
      "execution_count": 2,
      "outputs": []
    },
    {
      "cell_type": "markdown",
      "source": [
        "# Exercise 2: Define the Bayesian Network Structure"
      ],
      "metadata": {
        "id": "ogXMFcYVHvfL"
      }
    },
    {
      "cell_type": "markdown",
      "source": [
        "**Defining the Variables and Relationships**"
      ],
      "metadata": {
        "id": "f0EzENCmHyQX"
      }
    },
    {
      "cell_type": "code",
      "source": [
        "model = BayesianNetwork([\n",
        "    ('Age', 'HeartDisease'),\n",
        "    ('Smoking', 'HeartDisease'),\n",
        "    ('Exercise', 'HeartDisease'),\n",
        "    ('Cholesterol', 'HeartDisease'),\n",
        "    ('BloodPressure', 'HeartDisease'),\n",
        "    ('HeartDisease', 'ChestPain'),\n",
        "    ('HeartDisease', 'ECGResult')\n",
        "])"
      ],
      "metadata": {
        "id": "ryGqRp1lIvBT"
      },
      "execution_count": 3,
      "outputs": []
    },
    {
      "cell_type": "markdown",
      "source": [
        "# Exercise 3: Define Conditional Probability Tables (CPTs)"
      ],
      "metadata": {
        "id": "eSIujK_oH5y8"
      }
    },
    {
      "cell_type": "markdown",
      "source": [
        "**Create CPTs Using pgmpy**"
      ],
      "metadata": {
        "id": "SZkzy3U0H8S1"
      }
    },
    {
      "cell_type": "code",
      "source": [
        "cpd_age = TabularCPD(variable='Age', variable_card=3, values=[[0.3], [0.4], [0.3]])\n",
        "\n",
        "cpd_smoking = TabularCPD(variable='Smoking', variable_card=2, values=[[0.5], [0.5]])\n",
        "\n",
        "cpd_exercise = TabularCPD(variable='Exercise', variable_card=2, values=[[0.6], [0.4]])\n",
        "\n",
        "cpd_cholesterol = TabularCPD(variable='Cholesterol', variable_card=2, values=[[0.5], [0.5]])\n",
        "\n",
        "cpd_bloodpressure = TabularCPD(variable='BloodPressure', variable_card=2, values=[[0.5], [0.5]])\n",
        "\n",
        "cpd_heartdisease = TabularCPD(variable='HeartDisease', variable_card=2,\n",
        "                              values=[[0.9, 0.7, 0.6, 0.5, 0.4, 0.3, 0.2, 0.1,\n",
        "                                       0.8, 0.6, 0.5, 0.4, 0.3, 0.2, 0.1, 0.05,\n",
        "                                       0.7, 0.5, 0.4, 0.3, 0.2, 0.1, 0.05, 0.01,\n",
        "                                       0.6, 0.4, 0.3, 0.2, 0.1, 0.05, 0.01, 0.005,\n",
        "                                       0.5, 0.3, 0.2, 0.1, 0.05, 0.01, 0.005, 0.001,\n",
        "                                       0.4, 0.2, 0.1, 0.05, 0.01, 0.005, 0.001, 0.0005],\n",
        "                                     [0.1, 0.3, 0.4, 0.5, 0.6, 0.7, 0.8, 0.9,\n",
        "                                       0.2, 0.4, 0.5, 0.6, 0.7, 0.8, 0.9, 0.95,\n",
        "                                       0.3, 0.5, 0.6, 0.7, 0.8, 0.9, 0.95, 0.99,\n",
        "                                       0.4, 0.6, 0.7, 0.8, 0.9, 0.95, 0.99, 0.995,\n",
        "                                       0.5, 0.7, 0.8, 0.9, 0.95, 0.99, 0.995, 0.999,\n",
        "                                       0.6, 0.8, 0.9, 0.95, 0.99, 0.995, 0.999, 0.9995]],\n",
        "                              evidence=['Age', 'Smoking', 'Exercise', 'Cholesterol', 'BloodPressure'],\n",
        "                              evidence_card=[3, 2, 2, 2, 2])\n",
        "\n",
        "cpd_chestpain = TabularCPD(variable='ChestPain', variable_card=2,\n",
        "                           values=[[0.8, 0.2], [0.2, 0.8]],\n",
        "                           evidence=['HeartDisease'],\n",
        "                           evidence_card=[2])\n",
        "\n",
        "cpd_ecgresult = TabularCPD(variable='ECGResult', variable_card=2,\n",
        "                           values=[[0.9, 0.1], [0.1, 0.9]],\n",
        "                           evidence=['HeartDisease'],\n",
        "                           evidence_card=[2])\n",
        "\n",
        "model.add_cpds(cpd_age, cpd_smoking, cpd_exercise, cpd_cholesterol, cpd_bloodpressure, cpd_heartdisease, cpd_chestpain, cpd_ecgresult)"
      ],
      "metadata": {
        "id": "1b4GuUR9Iv4S"
      },
      "execution_count": 4,
      "outputs": []
    },
    {
      "cell_type": "markdown",
      "source": [
        "# Exercise 4: Inference in the Bayesian Network"
      ],
      "metadata": {
        "id": "YlQCEgbuH8XU"
      }
    },
    {
      "cell_type": "markdown",
      "source": [
        "**Perform Probabilistic Inference**"
      ],
      "metadata": {
        "id": "_hvAWwnBICHg"
      }
    },
    {
      "cell_type": "code",
      "source": [
        "infer = VariableElimination(model)\n",
        "\n",
        "evidence = {'Age': 1, 'Smoking': 1, 'Cholesterol': 1, 'BloodPressure': 1}\n",
        "result = infer.query(variables=['HeartDisease'], evidence=evidence)\n",
        "print(result)\n",
        "\n",
        "evidence = {'ChestPain': 1}\n",
        "result = infer.query(variables=['ECGResult'], evidence=evidence)\n",
        "print(result)"
      ],
      "metadata": {
        "colab": {
          "base_uri": "https://localhost:8080/"
        },
        "id": "Dzf19m3BIwjF",
        "outputId": "033ef941-bbf5-47d9-c803-dea83a645f7d"
      },
      "execution_count": 5,
      "outputs": [
        {
          "output_type": "stream",
          "name": "stdout",
          "text": [
            "+-----------------+---------------------+\n",
            "| HeartDisease    |   phi(HeartDisease) |\n",
            "+=================+=====================+\n",
            "| HeartDisease(0) |              0.1220 |\n",
            "+-----------------+---------------------+\n",
            "| HeartDisease(1) |              0.8780 |\n",
            "+-----------------+---------------------+\n",
            "+--------------+------------------+\n",
            "| ECGResult    |   phi(ECGResult) |\n",
            "+==============+==================+\n",
            "| ECGResult(0) |           0.1750 |\n",
            "+--------------+------------------+\n",
            "| ECGResult(1) |           0.8250 |\n",
            "+--------------+------------------+\n"
          ]
        }
      ]
    },
    {
      "cell_type": "markdown",
      "source": [
        "**Posterior Probability Analysis**"
      ],
      "metadata": {
        "id": "OCZyBRYKIEvc"
      }
    },
    {
      "cell_type": "code",
      "source": [
        "evidence = {'Exercise': 1}\n",
        "result = infer.query(variables=['HeartDisease'], evidence=evidence)\n",
        "print(result)"
      ],
      "metadata": {
        "colab": {
          "base_uri": "https://localhost:8080/"
        },
        "id": "UtLaEBObIbEz",
        "outputId": "33d427a7-8f0a-4a78-ac49-d4d48fa0ba0a"
      },
      "execution_count": 6,
      "outputs": [
        {
          "output_type": "stream",
          "name": "stdout",
          "text": [
            "+-----------------+---------------------+\n",
            "| HeartDisease    |   phi(HeartDisease) |\n",
            "+=================+=====================+\n",
            "| HeartDisease(0) |              0.0912 |\n",
            "+-----------------+---------------------+\n",
            "| HeartDisease(1) |              0.9088 |\n",
            "+-----------------+---------------------+\n"
          ]
        }
      ]
    },
    {
      "cell_type": "markdown",
      "source": [
        "# Exercise 5: Parameter Learning from Simulated Data"
      ],
      "metadata": {
        "id": "EWz0YccaIIct"
      }
    },
    {
      "cell_type": "markdown",
      "source": [
        "**Simulate a Healthcare Dataset**"
      ],
      "metadata": {
        "id": "vZe4iK2VII1G"
      }
    },
    {
      "cell_type": "code",
      "source": [
        "data = pd.DataFrame({\n",
        "    'Age': np.random.choice([0, 1, 2], size=1000, p=[0.3, 0.4, 0.3]),\n",
        "    'Smoking': np.random.choice([0, 1], size=1000, p=[0.5, 0.5]),\n",
        "    'Exercise': np.random.choice([0, 1], size=1000, p=[0.6, 0.4]),\n",
        "    'Cholesterol': np.random.choice([0, 1], size=1000, p=[0.5, 0.5]),\n",
        "    'BloodPressure': np.random.choice([0, 1], size=1000, p=[0.5, 0.5]),\n",
        "    'HeartDisease': np.random.choice([0, 1], size=1000, p=[0.5, 0.5]),\n",
        "    'ChestPain': np.random.choice([0, 1], size=1000, p=[0.5, 0.5]),\n",
        "    'ECGResult': np.random.choice([0, 1], size=1000, p=[0.5, 0.5])\n",
        "})"
      ],
      "metadata": {
        "id": "8A0Uadd2IbpA"
      },
      "execution_count": 7,
      "outputs": []
    },
    {
      "cell_type": "markdown",
      "source": [
        "**Estimate Parameters**"
      ],
      "metadata": {
        "id": "v7k5sTEKII6M"
      }
    },
    {
      "cell_type": "code",
      "source": [
        "model.fit(data, estimator=MaximumLikelihoodEstimator)\n",
        "\n",
        "for cpd in model.get_cpds():\n",
        "    print(cpd)"
      ],
      "metadata": {
        "colab": {
          "base_uri": "https://localhost:8080/"
        },
        "id": "33yO-oEEIcGT",
        "outputId": "dd9c3142-0c85-4dd0-fc05-9f88d0349352"
      },
      "execution_count": 8,
      "outputs": [
        {
          "output_type": "stream",
          "name": "stderr",
          "text": [
            "WARNING:pgmpy:Replacing existing CPD for Age\n",
            "WARNING:pgmpy:Replacing existing CPD for HeartDisease\n",
            "WARNING:pgmpy:Replacing existing CPD for Smoking\n",
            "WARNING:pgmpy:Replacing existing CPD for Exercise\n",
            "WARNING:pgmpy:Replacing existing CPD for Cholesterol\n",
            "WARNING:pgmpy:Replacing existing CPD for BloodPressure\n",
            "WARNING:pgmpy:Replacing existing CPD for ChestPain\n",
            "WARNING:pgmpy:Replacing existing CPD for ECGResult\n"
          ]
        },
        {
          "output_type": "stream",
          "name": "stdout",
          "text": [
            "+--------+-------+\n",
            "| Age(0) | 0.315 |\n",
            "+--------+-------+\n",
            "| Age(1) | 0.364 |\n",
            "+--------+-------+\n",
            "| Age(2) | 0.321 |\n",
            "+--------+-------+\n",
            "+------------+-------+\n",
            "| Smoking(0) | 0.489 |\n",
            "+------------+-------+\n",
            "| Smoking(1) | 0.511 |\n",
            "+------------+-------+\n",
            "+-------------+-------+\n",
            "| Exercise(0) | 0.588 |\n",
            "+-------------+-------+\n",
            "| Exercise(1) | 0.412 |\n",
            "+-------------+-------+\n",
            "+----------------+-------+\n",
            "| Cholesterol(0) | 0.488 |\n",
            "+----------------+-------+\n",
            "| Cholesterol(1) | 0.512 |\n",
            "+----------------+-------+\n",
            "+------------------+------+\n",
            "| BloodPressure(0) | 0.51 |\n",
            "+------------------+------+\n",
            "| BloodPressure(1) | 0.49 |\n",
            "+------------------+------+\n",
            "+-----------------+------------------+-----+--------------------+------------------+\n",
            "| Age             | Age(0)           | ... | Age(2)             | Age(2)           |\n",
            "+-----------------+------------------+-----+--------------------+------------------+\n",
            "| BloodPressure   | BloodPressure(0) | ... | BloodPressure(1)   | BloodPressure(1) |\n",
            "+-----------------+------------------+-----+--------------------+------------------+\n",
            "| Cholesterol     | Cholesterol(0)   | ... | Cholesterol(1)     | Cholesterol(1)   |\n",
            "+-----------------+------------------+-----+--------------------+------------------+\n",
            "| Exercise        | Exercise(0)      | ... | Exercise(1)        | Exercise(1)      |\n",
            "+-----------------+------------------+-----+--------------------+------------------+\n",
            "| Smoking         | Smoking(0)       | ... | Smoking(0)         | Smoking(1)       |\n",
            "+-----------------+------------------+-----+--------------------+------------------+\n",
            "| HeartDisease(0) | 0.625            | ... | 0.5555555555555556 | 0.4375           |\n",
            "+-----------------+------------------+-----+--------------------+------------------+\n",
            "| HeartDisease(1) | 0.375            | ... | 0.4444444444444444 | 0.5625           |\n",
            "+-----------------+------------------+-----+--------------------+------------------+\n",
            "+--------------+-----------------+-----------------+\n",
            "| HeartDisease | HeartDisease(0) | HeartDisease(1) |\n",
            "+--------------+-----------------+-----------------+\n",
            "| ChestPain(0) | 0.488           | 0.512           |\n",
            "+--------------+-----------------+-----------------+\n",
            "| ChestPain(1) | 0.512           | 0.488           |\n",
            "+--------------+-----------------+-----------------+\n",
            "+--------------+-----------------+-----------------+\n",
            "| HeartDisease | HeartDisease(0) | HeartDisease(1) |\n",
            "+--------------+-----------------+-----------------+\n",
            "| ECGResult(0) | 0.462           | 0.496           |\n",
            "+--------------+-----------------+-----------------+\n",
            "| ECGResult(1) | 0.538           | 0.504           |\n",
            "+--------------+-----------------+-----------------+\n"
          ]
        }
      ]
    },
    {
      "cell_type": "markdown",
      "source": [
        "# Exercise 6: Network Visualization and Analysis"
      ],
      "metadata": {
        "id": "Vg6iB_hOIPCy"
      }
    },
    {
      "cell_type": "markdown",
      "source": [
        "**Visualize the Network**"
      ],
      "metadata": {
        "id": "Ny82af_pIRT1"
      }
    },
    {
      "cell_type": "code",
      "source": [
        "nx_model = nx.DiGraph(model.edges())\n",
        "\n",
        "pos = nx.spring_layout(nx_model)\n",
        "\n",
        "nx.draw(nx_model, pos, with_labels=True, node_size=3000, node_color='skyblue',\n",
        "        font_size=10, font_weight='bold')\n",
        "\n",
        "plt.show()"
      ],
      "metadata": {
        "colab": {
          "base_uri": "https://localhost:8080/",
          "height": 516
        },
        "id": "sknA1re9IcmK",
        "outputId": "4c21d591-e6d4-41be-98e8-ab15784c431c"
      },
      "execution_count": 9,
      "outputs": [
        {
          "output_type": "display_data",
          "data": {
            "text/plain": [
              "<Figure size 640x480 with 1 Axes>"
            ],
            "image/png": "[encoded data removed]"
          },
          "metadata": {}
        }
      ]
    },
    {
      "cell_type": "markdown",
      "source": [
        "**Sensitivity Analysis**"
      ],
      "metadata": {
        "id": "L0rYFBC5IUY8"
      }
    },
    {
      "cell_type": "code",
      "source": [
        "import numpy as np\n",
        "import matplotlib.pyplot as plt\n",
        "\n",
        "threshold = 0.5\n",
        "\n",
        "smoking_probabilities = np.linspace(0, 1, 100)\n",
        "heart_disease_probabilities = []\n",
        "\n",
        "for p in smoking_probabilities:\n",
        "    smoking_state = 1 if p > threshold else 0\n",
        "    evidence = {'Smoking': smoking_state}\n",
        "\n",
        "    result = infer.query(variables=['HeartDisease'], evidence=evidence)\n",
        "    heart_disease_probabilities.append(result.values[1])\n",
        "\n",
        "plt.plot(smoking_probabilities, heart_disease_probabilities)\n",
        "plt.xlabel('Probability of Smoking')\n",
        "plt.ylabel('Probability of Heart Disease')\n",
        "plt.title('Sensitivity of Heart Disease to Smoking')\n",
        "plt.show()"
      ],
      "metadata": {
        "colab": {
          "base_uri": "https://localhost:8080/",
          "height": 472
        },
        "id": "7MIpG4y-IdKQ",
        "outputId": "1aff46e5-442a-4c08-bedb-3578dc5e5b3f"
      },
      "execution_count": 10,
      "outputs": [
        {
          "output_type": "display_data",
          "data": {
            "text/plain": [
              "<Figure size 640x480 with 1 Axes>"
            ],
            "image/png": "[encoded data removed]"
          },
          "metadata": {}
        }
      ]
    }
  ]
}